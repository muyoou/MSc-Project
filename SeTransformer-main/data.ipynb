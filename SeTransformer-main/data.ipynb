{
 "cells": [
  {
   "cell_type": "code",
   "execution_count": 5,
   "metadata": {},
   "outputs": [],
   "source": [
    "vocab_code = []\n",
    "vocab_sbt = []\n",
    "no = 1\n",
    "code =None\n",
    "sbt = None\n",
    "with open(\"data3/vocabulary/code\",'r') as file1, open(\"data3/vocabulary/sbt\",'r') as file2:\n",
    "    for line in file1:\n",
    "        vocab_code.append(line.rstrip())\n",
    "    for line in file2:\n",
    "        vocab_sbt.append(line.rstrip())\n",
    "\n",
    "with open(\"data3/valid/code\",'r') as file, open(\"data3/valid/sbt\",'r') as file2:\n",
    "    index = 0\n",
    "    for line in file:\n",
    "        if index == no: \n",
    "            code = line\n",
    "            break\n",
    "        index +=1\n",
    "    index = 0\n",
    "    for line in file2:\n",
    "        if index == no: \n",
    "            sbt = line\n",
    "            break\n",
    "        index +=1"
   ]
  },
  {
   "cell_type": "code",
   "execution_count": 2,
   "metadata": {},
   "outputs": [
    {
     "name": "stdout",
     "output_type": "stream",
     "text": [
      "['fkvll,', '.']\n"
     ]
    }
   ],
   "source": [
    "newList = []\n",
    "item = \"fkvll,.\"\n",
    "if item.endswith(\".\"): newList=newList+[item[:-1],'.']\n",
    "print(newList)"
   ]
  },
  {
   "cell_type": "code",
   "execution_count": 6,
   "metadata": {},
   "outputs": [
    {
     "name": "stdout",
     "output_type": "stream",
     "text": [
      "['def', 'parse_unifrac', '(', 'unifracFN', ')', ':', 'with', 'open', '(', 'unifracFN', ',', '\"rU\"', ')', 'as', 'uF', ':', 'first', '=', 'uF', '.', 'next', '(', ')', '.', 'split', '(', '\"\\\\t\"', ')', 'lines', '=', '[', 'line', '.', 'strip', '(', ')', 'for', 'line', 'in', 'uF', ']', 'unifrac', '=', '{', '\"pcd\"', ':', 'OrderedDict', '(', ')', ',', '\"eigvals\"', ':', '[', ']', ',', '\"varexp\"', ':', '[', ']', '}', 'if', 'first', '[', '0', ']', '==', '\"pc vector number\"', ':', 'return', 'parse_unifrac_v1_8', '(', 'unifrac', ',', 'lines', ')', 'elif', 'first', '[', '0', ']', '==', '\"Eigvals\"', ':', 'return', 'parse_unifrac_v1_9', '(', 'unifrac', ',', 'lines', ')', 'else', ':', 'raise', 'ValueError', '(', '\"File format not supported/recognized. Please check input \"', '\"unifrac file.\"', ')']\n"
     ]
    }
   ],
   "source": [
    "import json\n",
    "with open(\"train.jsonl\",'r') as file:\n",
    "    for line in file:\n",
    "        linej = json.loads(line)['code_tokens']\n",
    "        if 'parse_unifrac' in linej:\n",
    "            print(linej)\n",
    "            "
   ]
  },
  {
   "cell_type": "code",
   "execution_count": 7,
   "metadata": {},
   "outputs": [
    {
     "name": "stdout",
     "output_type": "stream",
     "text": [
      "['132', '199', '181', '33', '180', '308', '2', '180', '308', '147', '1470', '3', '8', '12', '2', '3453', '3572', '1680', '227', '3885', '5', '1022', '187', '449', '2', '1470', '3', '3', '8', '187', '449', '2', '2', '2274', '356', '3', '1470', '5', '14', '175', '2', '3', '3', '4', '9', '298', '5', '180', '308', '2', '1470', '3', '4', '9']\n",
      "@ override protected void property change ( property change event evt ) { if ( sea glass look and feel . should update style ( evt ) ) { update style ( ( jtext component ) evt . get source ( ) ) ; } super . property change ( evt ) ; } "
     ]
    }
   ],
   "source": [
    "code= code.rstrip()\n",
    "words = code.split(' ')\n",
    "\n",
    "print(words)\n",
    "for word in words:\n",
    "    if word.isdigit():\n",
    "        print(vocab_code[int(word)],end=' ')"
   ]
  },
  {
   "cell_type": "code",
   "execution_count": null,
   "metadata": {},
   "outputs": [],
   "source": [
    "for word in words:\n",
    "    if word.isdigit():\n",
    "        print(word,end=' ')\n",
    "        print(vocab_code[int(word)])"
   ]
  },
  {
   "cell_type": "code",
   "execution_count": null,
   "metadata": {},
   "outputs": [],
   "source": [
    "words = sbt.split(' ')\n",
    "sbtW = []\n",
    "for word in words:\n",
    "    if word.isdigit():\n",
    "        if int(word)<=30000:\n",
    "            sbtLine = []\n",
    "            print(vocab_sbt[int(word)],end=' ')\n",
    "            sbtW.append(vocab_sbt[int(word)])\n",
    "        else : print(\"<big>\",end = ' ')"
   ]
  },
  {
   "cell_type": "code",
   "execution_count": null,
   "metadata": {},
   "outputs": [],
   "source": [
    "ids = []\n",
    "with open(\"data/train/ids\",'r') as file:\n",
    "    index = 0\n",
    "    for line in file:\n",
    "        if index == no :\n",
    "            print(line)\n",
    "            ids = line.split(' ')\n",
    "            break\n",
    "        index+=1"
   ]
  },
  {
   "cell_type": "code",
   "execution_count": null,
   "metadata": {},
   "outputs": [],
   "source": [
    "for item in range(len(sbtW)):\n",
    "    for index in range(int(ids[item])):\n",
    "        print(\"  \",end='')\n",
    "    print(sbtW[item])"
   ]
  },
  {
   "cell_type": "markdown",
   "metadata": {},
   "source": [
    "Module FunctionDef arguments arg p arg level Constant Constant arguments Expr Constant Constant Expr Assign Name Store Store level BinOp Name Load Load level Add Add Constant Constant BinOp Assign Assign Name Store Store result Call Attribute Name Load Load p Load Load Attribute Name Load Load level Call Assign Return BinOp BinOp Subscript Name Load Load result Constant NUM Load Load Subscript Add Add Name Load Load level BinOp Add Add Subscript Call Attribute Subscript Name Load Load result Constant NUM Load Load Subscript Load Load Attribute Constant Constant Call Constant NUM Load Load Subscript BinOp Return FunctionDef\n",
    "\n",
    "\n",
    "0 1 2 3 3 4 4 5 5 2 6 7 7 6 8 9 10 10 9 11 12 13 13 12 14 14 15 15 11 8 16 17 18 18 17 19 20 21 22 22 21 23 23 20 24 25 25 24 19 16 26 27 28 29 30 31 31 30 32 32 33 33 29 34 34 35 36 36 35 28 37 37 38 39 40 41 42 43 43 42 44 44 45 45 41 46 46 40 47 47 39 48 48 49 49 38 27 26 1 0"
   ]
  },
  {
   "cell_type": "code",
   "execution_count": null,
   "metadata": {},
   "outputs": [],
   "source": []
  },
  {
   "cell_type": "markdown",
   "metadata": {},
   "source": [
    "@override \n",
    "public int runCommand(boolean mergeErrorIntoOutput, String... commands) throws IOException, InterruptedException {\n",
    "    return runCommand(mergeErrorIntoOutput, new ArrayList<String>(Arrays.asList(commands)));\n",
    "}"
   ]
  },
  {
   "cell_type": "markdown",
   "metadata": {},
   "source": [
    "MethodDeclaration \n",
    "    Annotation \n",
    "    Override \n",
    "        BasicType \n",
    "        int \n",
    "            FormalParameter \n",
    "                BasicType \n",
    "                boolean \n",
    "            <unk> \n",
    "                    FormalParameter \n",
    "                        ReferenceType \n",
    "                        String \n",
    "                    commands \n",
    "                            ReturnStatement \n",
    "                                MethodInvocation \n",
    "                                    MemberReference \n",
    "                                    <unk> \n",
    "                                        ClassCreator \n",
    "                                            ReferenceType \n",
    "                                                TypeArgument \n",
    "                                                    ReferenceType \n",
    "                                                    String \n",
    "                                                None \n",
    "                                            ArrayList \n",
    "                                                        MethodInvocation \n",
    "                                                            MemberReference \n",
    "                                                            commands \n",
    "                                                        Arrays.asList \n",
    "                                        ClassCreator \n",
    "                                <big> \n",
    "                            return \n",
    "<big>\n"
   ]
  },
  {
   "cell_type": "markdown",
   "metadata": {},
   "source": [
    "def runCommand(mergeErrorIntoOutput, commands):\n",
    "    return runCommand(mergeErrorIntoOutput, ArrayList(commands))"
   ]
  },
  {
   "cell_type": "markdown",
   "metadata": {},
   "source": [
    "Module\n",
    "    FunctionDef\n",
    "        arguments\n",
    "            arg\n",
    "            mergeErrorIntoOutput\n",
    "                arg\n",
    "                commands\n",
    "        arguments\n",
    "                    Return\n",
    "                        Call\n",
    "                            Name\n",
    "                                Load\n",
    "                                Load\n",
    "                            runCommand', '\n",
    "                                    Name', '\n",
    "                                        Load', '\n",
    "                                        Load', '\n",
    "                                    mergeErrorIntoOutput', '\n",
    "                                            Call', '\n",
    "                                                Name', '\n",
    "                                                    Load', '\n",
    "                                                    Load', '\n",
    "                                                ArrayList', '\n",
    "                                                        Name', '\n",
    "                                                            Load', '\n",
    "                                                            Load', '\n",
    "                                                        commands', '\n",
    "                                            Call', '\n",
    "                        Call', \n",
    "                    Return', '\n",
    "    FunctionDef', '\n",
    "Module\n",
    "0, 1, 2, 3, 3, 4, 4, 2, 5, 6, 7, 8, 8, 7, 9, 10, 10, 9, 11, 12, 13, 13, 12, 14, 15, 15, 14, 11, 6, 5, 1, 0"
   ]
  }
 ],
 "metadata": {
  "kernelspec": {
   "display_name": "TF15",
   "language": "python",
   "name": "python3"
  },
  "language_info": {
   "codemirror_mode": {
    "name": "ipython",
    "version": 3
   },
   "file_extension": ".py",
   "mimetype": "text/x-python",
   "name": "python",
   "nbconvert_exporter": "python",
   "pygments_lexer": "ipython3",
   "version": "3.11.4"
  },
  "orig_nbformat": 4
 },
 "nbformat": 4,
 "nbformat_minor": 2
}
